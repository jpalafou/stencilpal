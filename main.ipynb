{
 "cells": [
  {
   "cell_type": "code",
   "execution_count": 1,
   "metadata": {},
   "outputs": [],
   "source": [
    "from functools import lru_cache\n",
    "import numpy as np"
   ]
  },
  {
   "cell_type": "code",
   "execution_count": 2,
   "metadata": {},
   "outputs": [],
   "source": [
    "def binomial_product(binomial_coeffs):\n",
    "    # Initialize the product to the first binomial\n",
    "    result = np.array([1, binomial_coeffs[0]])\n",
    "\n",
    "    # Iterate through the rest of the binomials\n",
    "    for a in binomial_coeffs[1:]:\n",
    "        # Multiply current result by the new binomial (x + a)\n",
    "        result = np.convolve(result, [1, a])\n",
    "\n",
    "    return result"
   ]
  },
  {
   "cell_type": "code",
   "execution_count": 3,
   "metadata": {},
   "outputs": [],
   "source": [
    "@lru_cache(None)\n",
    "def dp_binomial_product(i, j, binomial_coeffs):\n",
    "    if i == j:\n",
    "        return np.array([1, binomial_coeffs[i]])\n",
    "\n",
    "    mid = (i + j) // 2\n",
    "    left_product = dp_binomial_product(i, mid, binomial_coeffs)\n",
    "    right_product = dp_binomial_product(mid + 1, j, binomial_coeffs)\n",
    "\n",
    "    return np.convolve(left_product, right_product)\n",
    "\n",
    "\n",
    "def binomial_product_dp(binomial_coeffs):\n",
    "    return dp_binomial_product(0, len(binomial_coeffs) - 1, tuple(binomial_coeffs))"
   ]
  },
  {
   "cell_type": "code",
   "execution_count": 4,
   "metadata": {},
   "outputs": [],
   "source": [
    "def polynomial_evaluate(polynomial_coeffs: np.ndarray, x: float) -> float:\n",
    "    \"\"\"\n",
    "    args:\n",
    "        polynomial_coeffs: np.ndarray of shape (n+1,) where n is the degree of the polynomial\n",
    "        x: float, the value at which to evaluate the polynomial\n",
    "    returns:\n",
    "        float, the value of the polynomial at x\n",
    "    \"\"\"\n",
    "    return np.sum(\n",
    "        polynomial_coeffs * np.power(x, np.arange(len(polynomial_coeffs) - 1, -1, -1))\n",
    "    )\n",
    "\n",
    "\n",
    "def polynomial_derivative(polynomial_coeffs):\n",
    "    \"\"\"\n",
    "    args:\n",
    "        polynomial_coeffs: np.ndarray of shape (n+1,) where n is the degree of the polynomial\n",
    "    returns:\n",
    "        np.ndarray of shape (n,) representing the derivative of the polynomial\n",
    "    \"\"\"\n",
    "    if len(polynomial_coeffs) == 1:\n",
    "        return np.array(\n",
    "            [0], dtype=polynomial_coeffs.dtype\n",
    "        )  # The derivative of a constant is 0.\n",
    "    return polynomial_coeffs[:-1] * np.arange(len(polynomial_coeffs) - 1, 0, -1)"
   ]
  },
  {
   "cell_type": "code",
   "execution_count": 5,
   "metadata": {},
   "outputs": [
    {
     "data": {
      "text/plain": [
       "array([  1,   7, -28,  20])"
      ]
     },
     "execution_count": 5,
     "metadata": {},
     "output_type": "execute_result"
    }
   ],
   "source": [
    "binomial_product([-1, -2, 10])"
   ]
  },
  {
   "cell_type": "code",
   "execution_count": 6,
   "metadata": {},
   "outputs": [
    {
     "data": {
      "text/plain": [
       "array([  1,   7, -28,  20])"
      ]
     },
     "execution_count": 6,
     "metadata": {},
     "output_type": "execute_result"
    }
   ],
   "source": [
    "binomial_product_dp([-1, -2, 10])"
   ]
  },
  {
   "cell_type": "code",
   "execution_count": 7,
   "metadata": {},
   "outputs": [],
   "source": [
    "coeffs = np.arange(100)\n",
    "assert np.all(binomial_product(coeffs) == binomial_product_dp(coeffs))"
   ]
  },
  {
   "cell_type": "code",
   "execution_count": 8,
   "metadata": {},
   "outputs": [
    {
     "name": "stdout",
     "output_type": "stream",
     "text": [
      "[  1  -3 -26  78  25 -75] 768\n"
     ]
    }
   ],
   "source": [
    "stencil_idxs = np.array([-2, -1, 0, 1, 2]) * 2\n",
    "x = -1\n",
    "\n",
    "interface_idxs = np.append(stencil_idxs[0] - 1, stencil_idxs + 1)\n",
    "\n",
    "# l1\n",
    "i = 1\n",
    "polynomial_coeffs = binomial_product(-np.delete(interface_idxs, i))\n",
    "l1_numerator = polynomial_coeffs\n",
    "l1_denominator = polynomial_evaluate(polynomial_coeffs, interface_idxs[i])\n",
    "l1prime_numerator = polynomial_evaluate(polynomial_derivative(polynomial_coeffs), x)\n",
    "\n",
    "print(l1_numerator, l1_denominator)"
   ]
  },
  {
   "cell_type": "code",
   "execution_count": 9,
   "metadata": {},
   "outputs": [
    {
     "name": "stdout",
     "output_type": "stream",
     "text": [
      "[   0 -192   64  192   96   64] [   1  768 -384  384 -768 3840]\n"
     ]
    }
   ],
   "source": [
    "lprime_numerators = np.zeros(len(interface_idxs), dtype=type(x))\n",
    "lprime_denominators = np.ones(len(interface_idxs), dtype=type(x))\n",
    "\n",
    "for i in range(1, len(interface_idxs)):\n",
    "    polynomial_coeffs = binomial_product(-np.delete(interface_idxs, i))\n",
    "    li_numerator = polynomial_coeffs\n",
    "    li_denominator = polynomial_evaluate(polynomial_coeffs, interface_idxs[i])\n",
    "    liprime_numerator = polynomial_evaluate(polynomial_derivative(polynomial_coeffs), x)\n",
    "    lprime_numerators[i] = liprime_numerator\n",
    "    lprime_denominators[i] = li_denominator\n",
    "\n",
    "print(lprime_numerators, lprime_denominators)"
   ]
  },
  {
   "cell_type": "code",
   "execution_count": 10,
   "metadata": {},
   "outputs": [],
   "source": [
    "def simplify_and_gcd(numerators: np.ndarray, denominators: np.ndarray) -> np.ndarray:\n",
    "    # simplify fractions\n",
    "    gcd = np.gcd(lprime_numerators, lprime_denominators)\n",
    "    out_numerators = numerators // gcd\n",
    "    out_denominators = denominators // gcd\n",
    "    # find common denominator\n",
    "    common_denominator = np.lcm.reduce(out_denominators)\n",
    "    out_numerators = out_numerators * common_denominator // out_denominators\n",
    "    out_denominators = out_denominators * common_denominator // out_denominators\n",
    "    return out_numerators, out_denominators"
   ]
  },
  {
   "cell_type": "code",
   "execution_count": 11,
   "metadata": {},
   "outputs": [
    {
     "data": {
      "text/plain": [
       "{-4: -3, -2: 27, 0: 47, 2: -13, 4: 2}"
      ]
     },
     "execution_count": 11,
     "metadata": {},
     "output_type": "execute_result"
    }
   ],
   "source": [
    "stencil = {}\n",
    "if isinstance(x, int):\n",
    "    lprime_numerators, lprime_denominators = simplify_and_gcd(\n",
    "        lprime_numerators, lprime_denominators\n",
    "    )\n",
    "    for i, idx in enumerate(stencil_idxs, start=1):\n",
    "        stencil[idx] = np.sum(lprime_numerators[i:])\n",
    "elif isinstance(x, float):\n",
    "    fractions = lprime_numerators / lprime_denominators\n",
    "    for i, idx in enumerate(stencil_idxs, start=1):\n",
    "        stencil[idx] = np.sum(fractions[i:])\n",
    "\n",
    "stencil"
   ]
  },
  {
   "cell_type": "code",
   "execution_count": 12,
   "metadata": {},
   "outputs": [
    {
     "data": {
      "text/plain": [
       "{-4: -0.05,\n",
       " -2: 0.45,\n",
       " 0: 0.7833333333333333,\n",
       " 2: -0.21666666666666667,\n",
       " 4: 0.03333333333333333}"
      ]
     },
     "execution_count": 12,
     "metadata": {},
     "output_type": "execute_result"
    }
   ],
   "source": [
    "stencil_sum = sum(stencil[i] for i in stencil_idxs)\n",
    "normalized_stencil = {i: stencil[i] / stencil_sum for i in stencil_idxs}\n",
    "normalized_stencil"
   ]
  },
  {
   "cell_type": "code",
   "execution_count": 13,
   "metadata": {},
   "outputs": [
    {
     "data": {
      "text/plain": [
       "1.0"
      ]
     },
     "execution_count": 13,
     "metadata": {},
     "output_type": "execute_result"
    }
   ],
   "source": [
    "sum(normalized_stencil[i] for i in stencil_idxs)"
   ]
  }
 ],
 "metadata": {
  "kernelspec": {
   "display_name": "fvhoe-env",
   "language": "python",
   "name": "python3"
  },
  "language_info": {
   "codemirror_mode": {
    "name": "ipython",
    "version": 3
   },
   "file_extension": ".py",
   "mimetype": "text/x-python",
   "name": "python",
   "nbconvert_exporter": "python",
   "pygments_lexer": "ipython3",
   "version": "3.11.9"
  }
 },
 "nbformat": 4,
 "nbformat_minor": 2
}
