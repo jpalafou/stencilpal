{
 "cells": [
  {
   "cell_type": "code",
   "execution_count": 1,
   "metadata": {},
   "outputs": [],
   "source": [
    "import numpy as np\n",
    "from stencilpal import (\n",
    "    conservative_interpolation_stencil,\n",
    "    uniform_quadrature,\n",
    ")"
   ]
  },
  {
   "cell_type": "markdown",
   "metadata": {},
   "source": [
    "Interpolate right cell face with a degree 10 polynomial:"
   ]
  },
  {
   "cell_type": "code",
   "execution_count": 2,
   "metadata": {},
   "outputs": [
    {
     "data": {
      "text/plain": [
       "Stencil({-5: [-1/2772], -4: [61/13860], -3: [-703/27720], -2: [371/3960], -1: [-7303/27720], 0: [20417/27720], 1: [15797/27720], 2: [-4003/27720], 3: [947/27720], 4: [-17/3080], 5: [1/2310]})"
      ]
     },
     "execution_count": 2,
     "metadata": {},
     "output_type": "execute_result"
    }
   ],
   "source": [
    "stencil = conservative_interpolation_stencil(10, x=\"r\")\n",
    "stencil"
   ]
  },
  {
   "cell_type": "markdown",
   "metadata": {},
   "source": [
    "Ensure the sum of the stencil weights is exactly 0:"
   ]
  },
  {
   "cell_type": "code",
   "execution_count": 3,
   "metadata": {},
   "outputs": [
    {
     "data": {
      "text/plain": [
       "1.0"
      ]
     },
     "execution_count": 3,
     "metadata": {},
     "output_type": "execute_result"
    }
   ],
   "source": [
    "np.sum(stencil.w).asnumpy().item()"
   ]
  },
  {
   "cell_type": "markdown",
   "metadata": {},
   "source": [
    "Interpolate cell average with a quadrature rule that is exact for polynomials of degree 10 or lower."
   ]
  },
  {
   "cell_type": "code",
   "execution_count": 4,
   "metadata": {},
   "outputs": [
    {
     "data": {
      "text/plain": [
       "Stencil({-5: [1295803/122624409600], -4: [-10156403/61312204800], -3: [7793123/5839257600], -2: [-41765827/5109350400], -1: [147010729/2270822400], 0: [9038561117/10218700800], 1: [147010729/2270822400], 2: [-41765827/5109350400], 3: [7793123/5839257600], 4: [-10156403/61312204800], 5: [1295803/122624409600]})"
      ]
     },
     "execution_count": 4,
     "metadata": {},
     "output_type": "execute_result"
    }
   ],
   "source": [
    "quadrature = uniform_quadrature(10)\n",
    "quadrature"
   ]
  },
  {
   "cell_type": "markdown",
   "metadata": {},
   "source": [
    "Ensure the sum of the quadrature weights is exactly 0:"
   ]
  },
  {
   "cell_type": "code",
   "execution_count": 5,
   "metadata": {},
   "outputs": [
    {
     "data": {
      "text/plain": [
       "1.0"
      ]
     },
     "execution_count": 5,
     "metadata": {},
     "output_type": "execute_result"
    }
   ],
   "source": [
    "np.sum(quadrature.w).asnumpy().item()"
   ]
  }
 ],
 "metadata": {
  "kernelspec": {
   "display_name": "fvhoe-env",
   "language": "python",
   "name": "python3"
  },
  "language_info": {
   "codemirror_mode": {
    "name": "ipython",
    "version": 3
   },
   "file_extension": ".py",
   "mimetype": "text/x-python",
   "name": "python",
   "nbconvert_exporter": "python",
   "pygments_lexer": "ipython3",
   "version": "3.11.9"
  }
 },
 "nbformat": 4,
 "nbformat_minor": 2
}
