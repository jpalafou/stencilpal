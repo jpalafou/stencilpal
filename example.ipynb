{
 "cells": [
  {
   "cell_type": "code",
   "execution_count": 1,
   "metadata": {},
   "outputs": [],
   "source": [
    "from numbers import Number\n",
    "import numpy as np"
   ]
  },
  {
   "cell_type": "code",
   "execution_count": 2,
   "metadata": {},
   "outputs": [],
   "source": [
    "HANDLED_FUNCTIONS = {}\n",
    "\n",
    "\n",
    "class DiagonalArray(np.lib.mixins.NDArrayOperatorsMixin):\n",
    "    def __init__(self, N, value):\n",
    "        self._N = N\n",
    "        self._i = value\n",
    "\n",
    "    def __repr__(self):\n",
    "        return f\"{self.__class__.__name__}(N={self._N}, value={self._i})\"\n",
    "\n",
    "    def __array__(self, dtype=None, copy=None):\n",
    "        if copy is False:\n",
    "            raise ValueError(\"`copy=False` isn't supported. A copy is always created.\")\n",
    "        return self._i * np.eye(self._N, dtype=dtype)\n",
    "\n",
    "    def __array_ufunc__(self, ufunc, method, *inputs, **kwargs):\n",
    "        if method == \"__call__\":\n",
    "            N = None\n",
    "            scalars = []\n",
    "            for input in inputs:\n",
    "                # In this case we accept only scalar numbers or DiagonalArrays.\n",
    "                if isinstance(input, Number):\n",
    "                    scalars.append(input)\n",
    "                elif isinstance(input, self.__class__):\n",
    "                    scalars.append(input._i)\n",
    "                    if N is not None:\n",
    "                        if N != input._N:\n",
    "                            raise TypeError(\"inconsistent sizes\")\n",
    "                    else:\n",
    "                        N = input._N\n",
    "                else:\n",
    "                    return NotImplemented\n",
    "            return self.__class__(N, ufunc(*scalars, **kwargs))\n",
    "        else:\n",
    "            return NotImplemented\n",
    "\n",
    "    def __array_function__(self, func, types, args, kwargs):\n",
    "        print(\"meow\")\n",
    "        if func not in HANDLED_FUNCTIONS:\n",
    "            return NotImplemented\n",
    "        # Note: this allows subclasses that don't override\n",
    "        # __array_function__ to handle DiagonalArray objects.\n",
    "        if not all(issubclass(t, self.__class__) for t in types):\n",
    "            return NotImplemented\n",
    "        return HANDLED_FUNCTIONS[func](*args, **kwargs)"
   ]
  },
  {
   "cell_type": "code",
   "execution_count": 3,
   "metadata": {},
   "outputs": [],
   "source": [
    "arr = DiagonalArray(5, 1)"
   ]
  },
  {
   "cell_type": "code",
   "execution_count": 4,
   "metadata": {},
   "outputs": [
    {
     "data": {
      "text/plain": [
       "DiagonalArray(N=5, value=4)"
      ]
     },
     "execution_count": 4,
     "metadata": {},
     "output_type": "execute_result"
    }
   ],
   "source": [
    "arr + 3"
   ]
  },
  {
   "cell_type": "code",
   "execution_count": 5,
   "metadata": {},
   "outputs": [
    {
     "data": {
      "text/plain": [
       "DiagonalArray(N=5, value=True)"
      ]
     },
     "execution_count": 5,
     "metadata": {},
     "output_type": "execute_result"
    }
   ],
   "source": [
    "arr > 0"
   ]
  },
  {
   "cell_type": "code",
   "execution_count": 6,
   "metadata": {},
   "outputs": [
    {
     "name": "stdout",
     "output_type": "stream",
     "text": [
      "meow\n"
     ]
    },
    {
     "ename": "TypeError",
     "evalue": "no implementation found for 'numpy.concatenate' on types that implement __array_function__: [<class '__main__.DiagonalArray'>]",
     "output_type": "error",
     "traceback": [
      "\u001b[0;31m---------------------------------------------------------------------------\u001b[0m",
      "\u001b[0;31mTypeError\u001b[0m                                 Traceback (most recent call last)",
      "Cell \u001b[0;32mIn[6], line 1\u001b[0m\n\u001b[0;32m----> 1\u001b[0m \u001b[43mnp\u001b[49m\u001b[38;5;241;43m.\u001b[39;49m\u001b[43mconcatenate\u001b[49m\u001b[43m(\u001b[49m\u001b[43m[\u001b[49m\u001b[43marr\u001b[49m\u001b[43m,\u001b[49m\u001b[43m \u001b[49m\u001b[43marr\u001b[49m\u001b[43m]\u001b[49m\u001b[43m)\u001b[49m\n",
      "\u001b[0;31mTypeError\u001b[0m: no implementation found for 'numpy.concatenate' on types that implement __array_function__: [<class '__main__.DiagonalArray'>]"
     ]
    }
   ],
   "source": [
    "np.concatenate([arr, arr])"
   ]
  }
 ],
 "metadata": {
  "kernelspec": {
   "display_name": "fvhoe-env",
   "language": "python",
   "name": "python3"
  },
  "language_info": {
   "codemirror_mode": {
    "name": "ipython",
    "version": 3
   },
   "file_extension": ".py",
   "mimetype": "text/x-python",
   "name": "python",
   "nbconvert_exporter": "python",
   "pygments_lexer": "ipython3",
   "version": "3.11.9"
  }
 },
 "nbformat": 4,
 "nbformat_minor": 2
}
