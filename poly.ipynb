{
 "cells": [
  {
   "cell_type": "code",
   "execution_count": 1,
   "metadata": {},
   "outputs": [],
   "source": [
    "import numpy as np\n",
    "from stencilpal.polynomial import Polynomial\n",
    "from stencilpal.rational import RationalArray"
   ]
  },
  {
   "cell_type": "code",
   "execution_count": 2,
   "metadata": {},
   "outputs": [
    {
     "name": "stdout",
     "output_type": "stream",
     "text": [
      "RationalArray(numerator=array([1, 2]), denominator=array([3, 4]))\n",
      "[2 1]\n",
      "RationalArray(numerator=array([2, 1]), denominator=array([3, 2]))\n"
     ]
    },
    {
     "data": {
      "text/plain": [
       "RationalArray(numerator=array([7]), denominator=array([6]))"
      ]
     },
     "execution_count": 2,
     "metadata": {},
     "output_type": "execute_result"
    }
   ],
   "source": [
    "coeffs = RationalArray([1, 2], [3, 4])  # corresponds to (1/3)*x + (2/4)\n",
    "poly = Polynomial(coeffs)\n",
    "poly(2)"
   ]
  },
  {
   "cell_type": "code",
   "execution_count": 4,
   "metadata": {},
   "outputs": [
    {
     "data": {
      "text/plain": [
       "RationalArray(numerator=array([7]), denominator=array([6]))"
      ]
     },
     "execution_count": 4,
     "metadata": {},
     "output_type": "execute_result"
    }
   ],
   "source": [
    "np.sum(RationalArray([2, 2], [3, 4]))"
   ]
  }
 ],
 "metadata": {
  "kernelspec": {
   "display_name": "fvhoe-env",
   "language": "python",
   "name": "python3"
  },
  "language_info": {
   "codemirror_mode": {
    "name": "ipython",
    "version": 3
   },
   "file_extension": ".py",
   "mimetype": "text/x-python",
   "name": "python",
   "nbconvert_exporter": "python",
   "pygments_lexer": "ipython3",
   "version": "3.11.9"
  }
 },
 "nbformat": 4,
 "nbformat_minor": 2
}
