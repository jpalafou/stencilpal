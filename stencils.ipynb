{
 "cells": [
  {
   "cell_type": "code",
   "execution_count": 1,
   "metadata": {},
   "outputs": [],
   "source": [
    "import numpy as np\n",
    "from stencilpal import (\n",
    "    compute_conservative_interpolation_stencil_weights,\n",
    "    conservative_interpolation_stencil,\n",
    ")"
   ]
  },
  {
   "cell_type": "code",
   "execution_count": 2,
   "metadata": {},
   "outputs": [
    {
     "data": {
      "text/plain": [
       "array([0])"
      ]
     },
     "execution_count": 2,
     "metadata": {},
     "output_type": "execute_result"
    }
   ],
   "source": [
    "p = 0\n",
    "np.arange(-(-2 * (-p // 2)), -2 * (-p // 2) + 2, 2)"
   ]
  },
  {
   "cell_type": "code",
   "execution_count": 3,
   "metadata": {},
   "outputs": [
    {
     "data": {
      "text/plain": [
       "(array([  -3,   25, -101,  319,  214,  -38,    4]), 420)"
      ]
     },
     "execution_count": 3,
     "metadata": {},
     "output_type": "execute_result"
    }
   ],
   "source": [
    "w = compute_conservative_interpolation_stencil_weights(\n",
    "    np.array([-6, -4, -2, 0, 2, 4, 6]), 1\n",
    ")\n",
    "w, np.sum(w)"
   ]
  },
  {
   "cell_type": "code",
   "execution_count": 4,
   "metadata": {},
   "outputs": [
    {
     "name": "stdout",
     "output_type": "stream",
     "text": [
      "CPU times: user 2.74 ms, sys: 1.52 ms, total: 4.26 ms\n",
      "Wall time: 2.92 ms\n"
     ]
    },
    {
     "data": {
      "text/plain": [
       "array([ -1,   8, -31,  94,  59, -10,   1])"
      ]
     },
     "execution_count": 4,
     "metadata": {},
     "output_type": "execute_result"
    }
   ],
   "source": [
    "%%time\n",
    "conservative_interpolation_stencil(5, 1)"
   ]
  }
 ],
 "metadata": {
  "kernelspec": {
   "display_name": "fvhoe-env",
   "language": "python",
   "name": "python3"
  },
  "language_info": {
   "codemirror_mode": {
    "name": "ipython",
    "version": 3
   },
   "file_extension": ".py",
   "mimetype": "text/x-python",
   "name": "python",
   "nbconvert_exporter": "python",
   "pygments_lexer": "ipython3",
   "version": "3.11.9"
  }
 },
 "nbformat": 4,
 "nbformat_minor": 2
}
