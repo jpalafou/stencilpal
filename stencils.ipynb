{
 "cells": [
  {
   "cell_type": "code",
   "execution_count": 1,
   "metadata": {},
   "outputs": [],
   "source": [
    "import numpy as np\n",
    "from stencilpal import (\n",
    "    conservative_interpolation_stencil,\n",
    "    uniform_quadrature_stencil,\n",
    ")\n",
    "from stencilpal.stencil import Stencil\n",
    "from stencilpal.rational import RationalArray"
   ]
  },
  {
   "cell_type": "code",
   "execution_count": 2,
   "metadata": {},
   "outputs": [],
   "source": [
    "p = 10\n",
    "rational = True"
   ]
  },
  {
   "cell_type": "code",
   "execution_count": 3,
   "metadata": {},
   "outputs": [
    {
     "name": "stdout",
     "output_type": "stream",
     "text": [
      "[1/1]\n"
     ]
    },
    {
     "data": {
      "text/plain": [
       "Stencil({-5: [-1/2772], -4: [61/13860], -3: [-703/27720], -2: [371/3960], -1: [-7303/27720], 0: [20417/27720], 1: [15797/27720], 2: [-4003/27720], 3: [947/27720], 4: [-17/3080], 5: [1/2310]})"
      ]
     },
     "execution_count": 3,
     "metadata": {},
     "output_type": "execute_result"
    }
   ],
   "source": [
    "stencil = conservative_interpolation_stencil(p, x=1, rational=rational)\n",
    "print(np.sum(stencil.w))\n",
    "stencil"
   ]
  },
  {
   "cell_type": "code",
   "execution_count": 4,
   "metadata": {},
   "outputs": [
    {
     "name": "stdout",
     "output_type": "stream",
     "text": [
      "[1/1]\n"
     ]
    },
    {
     "data": {
      "text/plain": [
       "Stencil({-5: [1295803/122624409600], -4: [-20312806/122624409600], -3: [163655583/122624409600], -2: [-1002379848/122624409600], -1: [7938579366/122624409600], 0: [108462733404/122624409600], 1: [7938579366/122624409600], 2: [-1002379848/122624409600], 3: [163655583/122624409600], 4: [-20312806/122624409600], 5: [1295803/122624409600]})"
      ]
     },
     "execution_count": 4,
     "metadata": {},
     "output_type": "execute_result"
    }
   ],
   "source": [
    "stencil = uniform_quadrature_stencil(p, rational=rational)\n",
    "stencil.form_common_denominator()\n",
    "print(np.sum(stencil.w))\n",
    "stencil"
   ]
  }
 ],
 "metadata": {
  "kernelspec": {
   "display_name": "fvhoe-env",
   "language": "python",
   "name": "python3"
  },
  "language_info": {
   "codemirror_mode": {
    "name": "ipython",
    "version": 3
   },
   "file_extension": ".py",
   "mimetype": "text/x-python",
   "name": "python",
   "nbconvert_exporter": "python",
   "pygments_lexer": "ipython3",
   "version": "3.11.9"
  }
 },
 "nbformat": 4,
 "nbformat_minor": 2
}
